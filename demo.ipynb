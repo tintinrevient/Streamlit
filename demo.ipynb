{
 "cells": [
  {
   "cell_type": "code",
   "execution_count": 11,
   "metadata": {},
   "outputs": [],
   "source": [
    "from os.path import abspath\n",
    "from pyspark.sql import SparkSession\n",
    "from pyspark.sql.functions import to_timestamp, col"
   ]
  },
  {
   "cell_type": "code",
   "execution_count": 2,
   "metadata": {},
   "outputs": [],
   "source": [
    "warehouse_location = abspath('spark-warehouse')"
   ]
  },
  {
   "cell_type": "code",
   "execution_count": 3,
   "metadata": {},
   "outputs": [],
   "source": [
    "spark = SparkSession.builder\\\n",
    "    .appName('demo')\\\n",
    "    .config('spark.sql.warehouse.dir', warehouse_location)\\\n",
    "    .enableHiveSupport().getOrCreate()"
   ]
  },
  {
   "cell_type": "code",
   "execution_count": 4,
   "metadata": {},
   "outputs": [],
   "source": [
    "df = spark.read.format('csv').option('header', 'true').option('inferSchema', 'true').load('data/consistency.csv')"
   ]
  },
  {
   "cell_type": "code",
   "execution_count": 5,
   "metadata": {},
   "outputs": [
    {
     "name": "stdout",
     "output_type": "stream",
     "text": [
      "+--------------------+-------------+----------+\n",
      "|             feature|     datetime|match_rate|\n",
      "+--------------------+-------------+----------+\n",
      "|fs_statistics__av...|2022-07-11 01|      0.35|\n",
      "|fs_statistics__av...|2022-07-11 02|      0.68|\n",
      "|fs_statistics__av...|2022-07-11 03|      0.89|\n",
      "|fs_statistics__av...|2022-07-11 04|      0.92|\n",
      "|fs_statistics__av...|2022-07-11 05|      0.99|\n",
      "+--------------------+-------------+----------+\n",
      "only showing top 5 rows\n",
      "\n"
     ]
    }
   ],
   "source": [
    "df.show(5)"
   ]
  },
  {
   "cell_type": "code",
   "execution_count": 6,
   "metadata": {},
   "outputs": [],
   "source": [
    "df = df.withColumn(\"datetime\",to_timestamp(\"datetime\"))"
   ]
  },
  {
   "cell_type": "code",
   "execution_count": 7,
   "metadata": {},
   "outputs": [
    {
     "name": "stdout",
     "output_type": "stream",
     "text": [
      "root\n",
      " |-- feature: string (nullable = true)\n",
      " |-- datetime: timestamp (nullable = true)\n",
      " |-- match_rate: double (nullable = true)\n",
      "\n"
     ]
    }
   ],
   "source": [
    "df.printSchema()"
   ]
  },
  {
   "cell_type": "code",
   "execution_count": 8,
   "metadata": {},
   "outputs": [],
   "source": [
    "from datetime import datetime\n",
    "\n",
    "data = [\n",
    "    ('fs_statistics__avg_age', datetime.strptime('2022-07-11 06', '%Y-%m-%d %H'), 0.21),\n",
    "    ('fs_statistics__avg_salary', datetime.strptime('2022-07-11 06', '%Y-%m-%d %H'), 0.14)\n",
    "]\n",
    "\n",
    "new_df = spark.createDataFrame(data=data, schema=df.schema)\n",
    "\n",
    "df = df.union(new_df)"
   ]
  },
  {
   "cell_type": "code",
   "execution_count": 12,
   "metadata": {},
   "outputs": [],
   "source": [
    "df = df.orderBy(col('datetime').asc())"
   ]
  },
  {
   "cell_type": "code",
   "execution_count": 10,
   "metadata": {},
   "outputs": [],
   "source": [
    "# only this session\n",
    "# df.createOrReplaceTempView('consistency_table')\n",
    "\n",
    "# across sessions\n",
    "# df.createGlobalTempView('consistency_table')\n",
    "\n",
    "df.write.format('parquet').mode('overwrite').saveAsTable('consistency_table')"
   ]
  },
  {
   "cell_type": "code",
   "execution_count": null,
   "metadata": {},
   "outputs": [],
   "source": []
  }
 ],
 "metadata": {
  "kernelspec": {
   "display_name": "Python 3",
   "language": "python",
   "name": "python3"
  },
  "language_info": {
   "codemirror_mode": {
    "name": "ipython",
    "version": 3
   },
   "file_extension": ".py",
   "mimetype": "text/x-python",
   "name": "python",
   "nbconvert_exporter": "python",
   "pygments_lexer": "ipython3",
   "version": "3.8.5"
  }
 },
 "nbformat": 4,
 "nbformat_minor": 5
}
